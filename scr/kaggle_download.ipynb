{
 "cells": [
  {
   "cell_type": "code",
   "execution_count": 1,
   "id": "684612fc-dd6d-4a7c-941e-30a490d9504b",
   "metadata": {},
   "outputs": [
    {
     "name": "stdout",
     "output_type": "stream",
     "text": [
      "Requirement already satisfied: opendatasets in c:\\users\\rosla\\anaconda3\\lib\\site-packages (0.1.22)\n",
      "Requirement already satisfied: tqdm in c:\\users\\rosla\\anaconda3\\lib\\site-packages (from opendatasets) (4.65.0)\n",
      "Requirement already satisfied: kaggle in c:\\users\\rosla\\anaconda3\\lib\\site-packages (from opendatasets) (1.6.17)\n",
      "Requirement already satisfied: click in c:\\users\\rosla\\anaconda3\\lib\\site-packages (from opendatasets) (7.1.2)\n",
      "Requirement already satisfied: six>=1.10 in c:\\users\\rosla\\anaconda3\\lib\\site-packages (from kaggle->opendatasets) (1.16.0)\n",
      "Requirement already satisfied: certifi>=2023.7.22 in c:\\users\\rosla\\anaconda3\\lib\\site-packages (from kaggle->opendatasets) (2024.2.2)\n",
      "Requirement already satisfied: python-dateutil in c:\\users\\rosla\\anaconda3\\lib\\site-packages (from kaggle->opendatasets) (2.8.2)\n",
      "Requirement already satisfied: requests in c:\\users\\rosla\\anaconda3\\lib\\site-packages (from kaggle->opendatasets) (2.31.0)\n",
      "Requirement already satisfied: python-slugify in c:\\users\\rosla\\anaconda3\\lib\\site-packages (from kaggle->opendatasets) (8.0.4)\n",
      "Requirement already satisfied: urllib3 in c:\\users\\rosla\\anaconda3\\lib\\site-packages (from kaggle->opendatasets) (2.0.7)\n",
      "Requirement already satisfied: bleach in c:\\users\\rosla\\anaconda3\\lib\\site-packages (from kaggle->opendatasets) (4.1.0)\n",
      "Requirement already satisfied: colorama in c:\\users\\rosla\\anaconda3\\lib\\site-packages (from tqdm->opendatasets) (0.4.6)\n",
      "Requirement already satisfied: packaging in c:\\users\\rosla\\anaconda3\\lib\\site-packages (from bleach->kaggle->opendatasets) (23.1)\n",
      "Requirement already satisfied: webencodings in c:\\users\\rosla\\anaconda3\\lib\\site-packages (from bleach->kaggle->opendatasets) (0.5.1)\n",
      "Requirement already satisfied: text-unidecode>=1.3 in c:\\users\\rosla\\anaconda3\\lib\\site-packages (from python-slugify->kaggle->opendatasets) (1.3)\n",
      "Requirement already satisfied: charset-normalizer<4,>=2 in c:\\users\\rosla\\anaconda3\\lib\\site-packages (from requests->kaggle->opendatasets) (2.0.4)\n",
      "Requirement already satisfied: idna<4,>=2.5 in c:\\users\\rosla\\anaconda3\\lib\\site-packages (from requests->kaggle->opendatasets) (3.4)\n"
     ]
    }
   ],
   "source": [
    "!pip install opendatasets"
   ]
  },
  {
   "cell_type": "code",
   "execution_count": 2,
   "id": "06391b4c-9f97-49f0-bc09-5084b45af0db",
   "metadata": {},
   "outputs": [],
   "source": [
    "import opendatasets as od"
   ]
  },
  {
   "cell_type": "code",
   "execution_count": 3,
   "id": "dc80471a-0864-4cf4-ae12-44471fc7561e",
   "metadata": {},
   "outputs": [],
   "source": [
    "dataset = 'https://www.kaggle.com/datasets/darrylljk/singapore-hdb-resale-flat-prices-2017-2024'"
   ]
  },
  {
   "cell_type": "code",
   "execution_count": 4,
   "id": "c411a6a3-3095-4236-9d0c-919b6e0a5b45",
   "metadata": {},
   "outputs": [
    {
     "name": "stdout",
     "output_type": "stream",
     "text": [
      "Dataset URL: https://www.kaggle.com/datasets/darrylljk/singapore-hdb-resale-flat-prices-2017-2024\n",
      "Downloading singapore-hdb-resale-flat-prices-2017-2024.zip to .\\singapore-hdb-resale-flat-prices-2017-2024\n"
     ]
    },
    {
     "name": "stderr",
     "output_type": "stream",
     "text": [
      "100%|██████████| 2.30M/2.30M [00:01<00:00, 1.81MB/s]"
     ]
    },
    {
     "name": "stdout",
     "output_type": "stream",
     "text": [
      "\n"
     ]
    },
    {
     "name": "stderr",
     "output_type": "stream",
     "text": [
      "\n"
     ]
    }
   ],
   "source": [
    "od.download(dataset)"
   ]
  },
  {
   "cell_type": "code",
   "execution_count": 5,
   "id": "822b2fdb-1051-4e79-b18a-931bb1bcfad8",
   "metadata": {},
   "outputs": [],
   "source": [
    "import os"
   ]
  },
  {
   "cell_type": "code",
   "execution_count": 6,
   "id": "6d1e9319-d9c8-4df0-ad82-bafe5b6b576f",
   "metadata": {},
   "outputs": [],
   "source": [
    "data_dir = '.\\singapore-hdb-resale-flat-prices-2017-2024'"
   ]
  },
  {
   "cell_type": "code",
   "execution_count": 7,
   "id": "4f9bd0eb-f1c2-4af5-9e3d-9979dc5aba69",
   "metadata": {},
   "outputs": [
    {
     "data": {
      "text/plain": [
       "['sg-resale-flat-prices-2017-onwards.csv']"
      ]
     },
     "execution_count": 7,
     "metadata": {},
     "output_type": "execute_result"
    }
   ],
   "source": [
    "os.listdir(data_dir)"
   ]
  },
  {
   "cell_type": "code",
   "execution_count": 8,
   "id": "6c2c2232-182e-4dc4-9201-3dc444e60063",
   "metadata": {},
   "outputs": [],
   "source": [
    "import pandas as pd"
   ]
  },
  {
   "cell_type": "code",
   "execution_count": 9,
   "id": "5f21dde1-c2fc-4437-af00-817f0723ec98",
   "metadata": {},
   "outputs": [
    {
     "data": {
      "text/html": [
       "<div>\n",
       "<style scoped>\n",
       "    .dataframe tbody tr th:only-of-type {\n",
       "        vertical-align: middle;\n",
       "    }\n",
       "\n",
       "    .dataframe tbody tr th {\n",
       "        vertical-align: top;\n",
       "    }\n",
       "\n",
       "    .dataframe thead th {\n",
       "        text-align: right;\n",
       "    }\n",
       "</style>\n",
       "<table border=\"1\" class=\"dataframe\">\n",
       "  <thead>\n",
       "    <tr style=\"text-align: right;\">\n",
       "      <th></th>\n",
       "      <th>month</th>\n",
       "      <th>town</th>\n",
       "      <th>flat_type</th>\n",
       "      <th>block</th>\n",
       "      <th>street_name</th>\n",
       "      <th>storey_range</th>\n",
       "      <th>floor_area_sqm</th>\n",
       "      <th>flat_model</th>\n",
       "      <th>lease_commence_date</th>\n",
       "      <th>remaining_lease</th>\n",
       "      <th>resale_price</th>\n",
       "    </tr>\n",
       "  </thead>\n",
       "  <tbody>\n",
       "    <tr>\n",
       "      <th>0</th>\n",
       "      <td>2017-01</td>\n",
       "      <td>ANG MO KIO</td>\n",
       "      <td>2 ROOM</td>\n",
       "      <td>406</td>\n",
       "      <td>ANG MO KIO AVE 10</td>\n",
       "      <td>10 TO 12</td>\n",
       "      <td>44.0</td>\n",
       "      <td>Improved</td>\n",
       "      <td>1979</td>\n",
       "      <td>61 years 04 months</td>\n",
       "      <td>232000.0</td>\n",
       "    </tr>\n",
       "    <tr>\n",
       "      <th>1</th>\n",
       "      <td>2017-01</td>\n",
       "      <td>ANG MO KIO</td>\n",
       "      <td>3 ROOM</td>\n",
       "      <td>108</td>\n",
       "      <td>ANG MO KIO AVE 4</td>\n",
       "      <td>01 TO 03</td>\n",
       "      <td>67.0</td>\n",
       "      <td>New Generation</td>\n",
       "      <td>1978</td>\n",
       "      <td>60 years 07 months</td>\n",
       "      <td>250000.0</td>\n",
       "    </tr>\n",
       "    <tr>\n",
       "      <th>2</th>\n",
       "      <td>2017-01</td>\n",
       "      <td>ANG MO KIO</td>\n",
       "      <td>3 ROOM</td>\n",
       "      <td>602</td>\n",
       "      <td>ANG MO KIO AVE 5</td>\n",
       "      <td>01 TO 03</td>\n",
       "      <td>67.0</td>\n",
       "      <td>New Generation</td>\n",
       "      <td>1980</td>\n",
       "      <td>62 years 05 months</td>\n",
       "      <td>262000.0</td>\n",
       "    </tr>\n",
       "    <tr>\n",
       "      <th>3</th>\n",
       "      <td>2017-01</td>\n",
       "      <td>ANG MO KIO</td>\n",
       "      <td>3 ROOM</td>\n",
       "      <td>465</td>\n",
       "      <td>ANG MO KIO AVE 10</td>\n",
       "      <td>04 TO 06</td>\n",
       "      <td>68.0</td>\n",
       "      <td>New Generation</td>\n",
       "      <td>1980</td>\n",
       "      <td>62 years 01 month</td>\n",
       "      <td>265000.0</td>\n",
       "    </tr>\n",
       "    <tr>\n",
       "      <th>4</th>\n",
       "      <td>2017-01</td>\n",
       "      <td>ANG MO KIO</td>\n",
       "      <td>3 ROOM</td>\n",
       "      <td>601</td>\n",
       "      <td>ANG MO KIO AVE 5</td>\n",
       "      <td>01 TO 03</td>\n",
       "      <td>67.0</td>\n",
       "      <td>New Generation</td>\n",
       "      <td>1980</td>\n",
       "      <td>62 years 05 months</td>\n",
       "      <td>265000.0</td>\n",
       "    </tr>\n",
       "    <tr>\n",
       "      <th>...</th>\n",
       "      <td>...</td>\n",
       "      <td>...</td>\n",
       "      <td>...</td>\n",
       "      <td>...</td>\n",
       "      <td>...</td>\n",
       "      <td>...</td>\n",
       "      <td>...</td>\n",
       "      <td>...</td>\n",
       "      <td>...</td>\n",
       "      <td>...</td>\n",
       "      <td>...</td>\n",
       "    </tr>\n",
       "    <tr>\n",
       "      <th>181257</th>\n",
       "      <td>2024-06</td>\n",
       "      <td>YISHUN</td>\n",
       "      <td>5 ROOM</td>\n",
       "      <td>502B</td>\n",
       "      <td>YISHUN ST 51</td>\n",
       "      <td>10 TO 12</td>\n",
       "      <td>112.0</td>\n",
       "      <td>Improved</td>\n",
       "      <td>2018</td>\n",
       "      <td>92 years 08 months</td>\n",
       "      <td>738000.0</td>\n",
       "    </tr>\n",
       "    <tr>\n",
       "      <th>181258</th>\n",
       "      <td>2024-06</td>\n",
       "      <td>YISHUN</td>\n",
       "      <td>5 ROOM</td>\n",
       "      <td>865</td>\n",
       "      <td>YISHUN ST 81</td>\n",
       "      <td>07 TO 09</td>\n",
       "      <td>122.0</td>\n",
       "      <td>Improved</td>\n",
       "      <td>1988</td>\n",
       "      <td>62 years 10 months</td>\n",
       "      <td>680000.0</td>\n",
       "    </tr>\n",
       "    <tr>\n",
       "      <th>181259</th>\n",
       "      <td>2024-06</td>\n",
       "      <td>YISHUN</td>\n",
       "      <td>EXECUTIVE</td>\n",
       "      <td>723</td>\n",
       "      <td>YISHUN ST 71</td>\n",
       "      <td>10 TO 12</td>\n",
       "      <td>146.0</td>\n",
       "      <td>Maisonette</td>\n",
       "      <td>1986</td>\n",
       "      <td>61 years</td>\n",
       "      <td>790000.0</td>\n",
       "    </tr>\n",
       "    <tr>\n",
       "      <th>181260</th>\n",
       "      <td>2024-06</td>\n",
       "      <td>YISHUN</td>\n",
       "      <td>EXECUTIVE</td>\n",
       "      <td>826</td>\n",
       "      <td>YISHUN ST 81</td>\n",
       "      <td>10 TO 12</td>\n",
       "      <td>146.0</td>\n",
       "      <td>Maisonette</td>\n",
       "      <td>1988</td>\n",
       "      <td>62 years 08 months</td>\n",
       "      <td>1000000.0</td>\n",
       "    </tr>\n",
       "    <tr>\n",
       "      <th>181261</th>\n",
       "      <td>2024-06</td>\n",
       "      <td>YISHUN</td>\n",
       "      <td>EXECUTIVE</td>\n",
       "      <td>826</td>\n",
       "      <td>YISHUN ST 81</td>\n",
       "      <td>04 TO 06</td>\n",
       "      <td>146.0</td>\n",
       "      <td>Maisonette</td>\n",
       "      <td>1988</td>\n",
       "      <td>62 years 08 months</td>\n",
       "      <td>1000000.0</td>\n",
       "    </tr>\n",
       "  </tbody>\n",
       "</table>\n",
       "<p>181262 rows × 11 columns</p>\n",
       "</div>"
      ],
      "text/plain": [
       "          month        town  flat_type block        street_name storey_range  \\\n",
       "0       2017-01  ANG MO KIO     2 ROOM   406  ANG MO KIO AVE 10     10 TO 12   \n",
       "1       2017-01  ANG MO KIO     3 ROOM   108   ANG MO KIO AVE 4     01 TO 03   \n",
       "2       2017-01  ANG MO KIO     3 ROOM   602   ANG MO KIO AVE 5     01 TO 03   \n",
       "3       2017-01  ANG MO KIO     3 ROOM   465  ANG MO KIO AVE 10     04 TO 06   \n",
       "4       2017-01  ANG MO KIO     3 ROOM   601   ANG MO KIO AVE 5     01 TO 03   \n",
       "...         ...         ...        ...   ...                ...          ...   \n",
       "181257  2024-06      YISHUN     5 ROOM  502B       YISHUN ST 51     10 TO 12   \n",
       "181258  2024-06      YISHUN     5 ROOM   865       YISHUN ST 81     07 TO 09   \n",
       "181259  2024-06      YISHUN  EXECUTIVE   723       YISHUN ST 71     10 TO 12   \n",
       "181260  2024-06      YISHUN  EXECUTIVE   826       YISHUN ST 81     10 TO 12   \n",
       "181261  2024-06      YISHUN  EXECUTIVE   826       YISHUN ST 81     04 TO 06   \n",
       "\n",
       "        floor_area_sqm      flat_model  lease_commence_date  \\\n",
       "0                 44.0        Improved                 1979   \n",
       "1                 67.0  New Generation                 1978   \n",
       "2                 67.0  New Generation                 1980   \n",
       "3                 68.0  New Generation                 1980   \n",
       "4                 67.0  New Generation                 1980   \n",
       "...                ...             ...                  ...   \n",
       "181257           112.0        Improved                 2018   \n",
       "181258           122.0        Improved                 1988   \n",
       "181259           146.0      Maisonette                 1986   \n",
       "181260           146.0      Maisonette                 1988   \n",
       "181261           146.0      Maisonette                 1988   \n",
       "\n",
       "           remaining_lease  resale_price  \n",
       "0       61 years 04 months      232000.0  \n",
       "1       60 years 07 months      250000.0  \n",
       "2       62 years 05 months      262000.0  \n",
       "3        62 years 01 month      265000.0  \n",
       "4       62 years 05 months      265000.0  \n",
       "...                    ...           ...  \n",
       "181257  92 years 08 months      738000.0  \n",
       "181258  62 years 10 months      680000.0  \n",
       "181259            61 years      790000.0  \n",
       "181260  62 years 08 months     1000000.0  \n",
       "181261  62 years 08 months     1000000.0  \n",
       "\n",
       "[181262 rows x 11 columns]"
      ]
     },
     "execution_count": 9,
     "metadata": {},
     "output_type": "execute_result"
    }
   ],
   "source": [
    "hdb_df = pd.read_csv('sg-resale-flat-prices-2017-onwards.csv')\n",
    "hdb_df"
   ]
  },
  {
   "cell_type": "code",
   "execution_count": null,
   "id": "852b14c9-8854-4e66-a6bd-d500522c8d16",
   "metadata": {},
   "outputs": [],
   "source": []
  }
 ],
 "metadata": {
  "kernelspec": {
   "display_name": "Python 3 (ipykernel)",
   "language": "python",
   "name": "python3"
  },
  "language_info": {
   "codemirror_mode": {
    "name": "ipython",
    "version": 3
   },
   "file_extension": ".py",
   "mimetype": "text/x-python",
   "name": "python",
   "nbconvert_exporter": "python",
   "pygments_lexer": "ipython3",
   "version": "3.11.7"
  }
 },
 "nbformat": 4,
 "nbformat_minor": 5
}
